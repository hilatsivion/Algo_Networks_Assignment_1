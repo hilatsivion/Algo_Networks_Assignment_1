{
  "cells": [
    {
      "cell_type": "markdown",
      "metadata": {
        "id": "view-in-github",
        "colab_type": "text"
      },
      "source": [
        "<a href=\"https://colab.research.google.com/github/hilatsivion/Algo_Networks_Assignment_1/blob/main/Hila_Ran_Assignment_1.ipynb\" target=\"_parent\"><img src=\"https://colab.research.google.com/assets/colab-badge.svg\" alt=\"Open In Colab\"/></a>"
      ]
    },
    {
      "cell_type": "markdown",
      "id": "f801cb7b",
      "metadata": {
        "id": "f801cb7b"
      },
      "source": [
        "<div dir=\"rtl\">\n",
        "\n",
        "# מטלה 1 – קורס אלגוריתמים ברשתות  \n",
        "**שם:** הלה צביון  \n",
        "**ת\"ז:** 211413216  \n",
        "\n",
        "**שם:** רן משולם  \n",
        "**ת\"ז:** 208211292  \n",
        "\n",
        "\n",
        "---\n",
        "\n",
        "</div>\n"
      ]
    },
    {
      "cell_type": "code",
      "execution_count": null,
      "id": "a4c37dd6",
      "metadata": {
        "colab": {
          "base_uri": "https://localhost:8080/"
        },
        "id": "a4c37dd6",
        "outputId": "177e10f5-5827-45c6-c507-42fd0f0306d4"
      },
      "outputs": [
        {
          "output_type": "stream",
          "name": "stdout",
          "text": [
            "Requirement already satisfied: networkx in /usr/local/lib/python3.11/dist-packages (3.4.2)\n"
          ]
        }
      ],
      "source": [
        "!pip install networkx"
      ]
    },
    {
      "cell_type": "code",
      "source": [
        "from google.colab import files\n",
        "uploaded = files.upload()\n",
        "G1 = nx.read_gml('friendships.gml')"
      ],
      "metadata": {
        "colab": {
          "base_uri": "https://localhost:8080/",
          "height": 74
        },
        "id": "2QA2tm0Sr2N0",
        "outputId": "50b7e749-8dfc-4167-e27e-ec0838106733"
      },
      "id": "2QA2tm0Sr2N0",
      "execution_count": null,
      "outputs": [
        {
          "output_type": "display_data",
          "data": {
            "text/plain": [
              "<IPython.core.display.HTML object>"
            ],
            "text/html": [
              "\n",
              "     <input type=\"file\" id=\"files-c5734eb1-4d85-4eed-8a79-75e61d951152\" name=\"files[]\" multiple disabled\n",
              "        style=\"border:none\" />\n",
              "     <output id=\"result-c5734eb1-4d85-4eed-8a79-75e61d951152\">\n",
              "      Upload widget is only available when the cell has been executed in the\n",
              "      current browser session. Please rerun this cell to enable.\n",
              "      </output>\n",
              "      <script>// Copyright 2017 Google LLC\n",
              "//\n",
              "// Licensed under the Apache License, Version 2.0 (the \"License\");\n",
              "// you may not use this file except in compliance with the License.\n",
              "// You may obtain a copy of the License at\n",
              "//\n",
              "//      http://www.apache.org/licenses/LICENSE-2.0\n",
              "//\n",
              "// Unless required by applicable law or agreed to in writing, software\n",
              "// distributed under the License is distributed on an \"AS IS\" BASIS,\n",
              "// WITHOUT WARRANTIES OR CONDITIONS OF ANY KIND, either express or implied.\n",
              "// See the License for the specific language governing permissions and\n",
              "// limitations under the License.\n",
              "\n",
              "/**\n",
              " * @fileoverview Helpers for google.colab Python module.\n",
              " */\n",
              "(function(scope) {\n",
              "function span(text, styleAttributes = {}) {\n",
              "  const element = document.createElement('span');\n",
              "  element.textContent = text;\n",
              "  for (const key of Object.keys(styleAttributes)) {\n",
              "    element.style[key] = styleAttributes[key];\n",
              "  }\n",
              "  return element;\n",
              "}\n",
              "\n",
              "// Max number of bytes which will be uploaded at a time.\n",
              "const MAX_PAYLOAD_SIZE = 100 * 1024;\n",
              "\n",
              "function _uploadFiles(inputId, outputId) {\n",
              "  const steps = uploadFilesStep(inputId, outputId);\n",
              "  const outputElement = document.getElementById(outputId);\n",
              "  // Cache steps on the outputElement to make it available for the next call\n",
              "  // to uploadFilesContinue from Python.\n",
              "  outputElement.steps = steps;\n",
              "\n",
              "  return _uploadFilesContinue(outputId);\n",
              "}\n",
              "\n",
              "// This is roughly an async generator (not supported in the browser yet),\n",
              "// where there are multiple asynchronous steps and the Python side is going\n",
              "// to poll for completion of each step.\n",
              "// This uses a Promise to block the python side on completion of each step,\n",
              "// then passes the result of the previous step as the input to the next step.\n",
              "function _uploadFilesContinue(outputId) {\n",
              "  const outputElement = document.getElementById(outputId);\n",
              "  const steps = outputElement.steps;\n",
              "\n",
              "  const next = steps.next(outputElement.lastPromiseValue);\n",
              "  return Promise.resolve(next.value.promise).then((value) => {\n",
              "    // Cache the last promise value to make it available to the next\n",
              "    // step of the generator.\n",
              "    outputElement.lastPromiseValue = value;\n",
              "    return next.value.response;\n",
              "  });\n",
              "}\n",
              "\n",
              "/**\n",
              " * Generator function which is called between each async step of the upload\n",
              " * process.\n",
              " * @param {string} inputId Element ID of the input file picker element.\n",
              " * @param {string} outputId Element ID of the output display.\n",
              " * @return {!Iterable<!Object>} Iterable of next steps.\n",
              " */\n",
              "function* uploadFilesStep(inputId, outputId) {\n",
              "  const inputElement = document.getElementById(inputId);\n",
              "  inputElement.disabled = false;\n",
              "\n",
              "  const outputElement = document.getElementById(outputId);\n",
              "  outputElement.innerHTML = '';\n",
              "\n",
              "  const pickedPromise = new Promise((resolve) => {\n",
              "    inputElement.addEventListener('change', (e) => {\n",
              "      resolve(e.target.files);\n",
              "    });\n",
              "  });\n",
              "\n",
              "  const cancel = document.createElement('button');\n",
              "  inputElement.parentElement.appendChild(cancel);\n",
              "  cancel.textContent = 'Cancel upload';\n",
              "  const cancelPromise = new Promise((resolve) => {\n",
              "    cancel.onclick = () => {\n",
              "      resolve(null);\n",
              "    };\n",
              "  });\n",
              "\n",
              "  // Wait for the user to pick the files.\n",
              "  const files = yield {\n",
              "    promise: Promise.race([pickedPromise, cancelPromise]),\n",
              "    response: {\n",
              "      action: 'starting',\n",
              "    }\n",
              "  };\n",
              "\n",
              "  cancel.remove();\n",
              "\n",
              "  // Disable the input element since further picks are not allowed.\n",
              "  inputElement.disabled = true;\n",
              "\n",
              "  if (!files) {\n",
              "    return {\n",
              "      response: {\n",
              "        action: 'complete',\n",
              "      }\n",
              "    };\n",
              "  }\n",
              "\n",
              "  for (const file of files) {\n",
              "    const li = document.createElement('li');\n",
              "    li.append(span(file.name, {fontWeight: 'bold'}));\n",
              "    li.append(span(\n",
              "        `(${file.type || 'n/a'}) - ${file.size} bytes, ` +\n",
              "        `last modified: ${\n",
              "            file.lastModifiedDate ? file.lastModifiedDate.toLocaleDateString() :\n",
              "                                    'n/a'} - `));\n",
              "    const percent = span('0% done');\n",
              "    li.appendChild(percent);\n",
              "\n",
              "    outputElement.appendChild(li);\n",
              "\n",
              "    const fileDataPromise = new Promise((resolve) => {\n",
              "      const reader = new FileReader();\n",
              "      reader.onload = (e) => {\n",
              "        resolve(e.target.result);\n",
              "      };\n",
              "      reader.readAsArrayBuffer(file);\n",
              "    });\n",
              "    // Wait for the data to be ready.\n",
              "    let fileData = yield {\n",
              "      promise: fileDataPromise,\n",
              "      response: {\n",
              "        action: 'continue',\n",
              "      }\n",
              "    };\n",
              "\n",
              "    // Use a chunked sending to avoid message size limits. See b/62115660.\n",
              "    let position = 0;\n",
              "    do {\n",
              "      const length = Math.min(fileData.byteLength - position, MAX_PAYLOAD_SIZE);\n",
              "      const chunk = new Uint8Array(fileData, position, length);\n",
              "      position += length;\n",
              "\n",
              "      const base64 = btoa(String.fromCharCode.apply(null, chunk));\n",
              "      yield {\n",
              "        response: {\n",
              "          action: 'append',\n",
              "          file: file.name,\n",
              "          data: base64,\n",
              "        },\n",
              "      };\n",
              "\n",
              "      let percentDone = fileData.byteLength === 0 ?\n",
              "          100 :\n",
              "          Math.round((position / fileData.byteLength) * 100);\n",
              "      percent.textContent = `${percentDone}% done`;\n",
              "\n",
              "    } while (position < fileData.byteLength);\n",
              "  }\n",
              "\n",
              "  // All done.\n",
              "  yield {\n",
              "    response: {\n",
              "      action: 'complete',\n",
              "    }\n",
              "  };\n",
              "}\n",
              "\n",
              "scope.google = scope.google || {};\n",
              "scope.google.colab = scope.google.colab || {};\n",
              "scope.google.colab._files = {\n",
              "  _uploadFiles,\n",
              "  _uploadFilesContinue,\n",
              "};\n",
              "})(self);\n",
              "</script> "
            ]
          },
          "metadata": {}
        },
        {
          "output_type": "stream",
          "name": "stdout",
          "text": [
            "Saving friendships.gml to friendships (1).gml\n"
          ]
        }
      ]
    },
    {
      "cell_type": "markdown",
      "id": "4637d96f",
      "metadata": {
        "id": "4637d96f"
      },
      "source": [
        "<div dir=\"rtl\">\n",
        "\n",
        "### שאלה 1:\n",
        "\n",
        "הפונקציה `answer_Q1` טוענת את גרף החברויות מתוך הקובץ `friendships.gml`, ומחשבת עבור הצומת 100 שלושה מדדי מרכזיות:\n",
        "\n",
        "- **Degree centrality** – כמה קשרים יש לצומת.  \n",
        "- **Closeness centrality** – כמה קרוב הצומת לכל שאר הצמתים.  \n",
        "- **Betweenness centrality** – כמה פעמים הצומת נמצא על מסלולים קצרים בין צמתים אחרים.  \n",
        "\n",
        "בסיום, הפונקציה מחזירה את שלושת המדדים כ־`tuple`.\n",
        "\n",
        "</div>\n"
      ]
    },
    {
      "cell_type": "code",
      "source": [
        "import networkx as nx"
      ],
      "metadata": {
        "id": "SQZyF_rHqyka"
      },
      "id": "SQZyF_rHqyka",
      "execution_count": null,
      "outputs": []
    },
    {
      "cell_type": "code",
      "execution_count": null,
      "metadata": {
        "id": "ObbDVfYJqy5O"
      },
      "outputs": [],
      "source": [
        "def answer_Q1():\n",
        "    degree = nx.degree_centrality(G1)[100]\n",
        "    closeness = nx.closeness_centrality(G1)[100]\n",
        "    betweenness = nx.betweenness_centrality(G1)[100]\n",
        "\n",
        "    return (degree, closeness, betweenness)"
      ],
      "id": "ObbDVfYJqy5O"
    },
    {
      "cell_type": "code",
      "source": [
        "ans_Q1 = answer_Q1()\n",
        "assert type(ans_Q1) == tuple, \"You must return a tuple\"\n",
        "print(ans_Q1)\n"
      ],
      "metadata": {
        "colab": {
          "base_uri": "https://localhost:8080/"
        },
        "id": "_kcYw8w9q7D5",
        "outputId": "1428ae03-b5eb-4ec0-ffe8-f9f20be91ffb"
      },
      "id": "_kcYw8w9q7D5",
      "execution_count": null,
      "outputs": [
        {
          "output_type": "stream",
          "name": "stdout",
          "text": [
            "(0.0026501766784452294, 0.2654784240150094, 7.142902633244772e-05)\n"
          ]
        }
      ]
    },
    {
      "cell_type": "markdown",
      "id": "4d8aea82",
      "metadata": {
        "id": "4d8aea82"
      },
      "source": [
        "<div dir=\"rtl\">\n",
        "\n",
        "### שאלה 2:\n",
        "\n",
        "הפונקציה `answer_Q2` טוענת את גרף החברויות מהקובץ `friendships.gml`, ומחשבת את מדד ה־**degree centrality** של כל צומת – כלומר כמה חברים יש לו יחסית לשאר הצמתים ברשת.  \n",
        "לאחר מכן, היא בוחרת את הצומת עם הערך הגבוה ביותר, כלומר האדם שיש לו הכי הרבה קשרים ישירים.  \n",
        "בחרנו במדד זה כי כל אדם שולח את ההודעה רק לחברים הישירים שלו, ולכן כדאי להתחיל ממי שיש לו הכי הרבה חברים – כדי שההודעה תגיע לכמה שיותר אנשים בצעד אחד.\n",
        "\n",
        "</div>\n"
      ]
    },
    {
      "cell_type": "code",
      "execution_count": null,
      "id": "4f212dd9",
      "metadata": {
        "id": "4f212dd9"
      },
      "outputs": [],
      "source": [
        "def answer_Q2():\n",
        "    # Calculate degree centrality for all nodes\n",
        "    degree_centralities = nx.degree_centrality(G1)\n",
        "\n",
        "    # Find the node with the highest degree centrality\n",
        "    best_node = max(degree_centralities, key=degree_centralities.get)\n",
        "\n",
        "    return best_node"
      ]
    },
    {
      "cell_type": "code",
      "source": [
        "ans_Q2 = answer_Q2()\n",
        "print(ans_Q2)"
      ],
      "metadata": {
        "colab": {
          "base_uri": "https://localhost:8080/"
        },
        "id": "F4q8ZEfXq_sg",
        "outputId": "70be6745-f83e-49d2-a27f-1551686825d9"
      },
      "id": "F4q8ZEfXq_sg",
      "execution_count": null,
      "outputs": [
        {
          "output_type": "stream",
          "name": "stdout",
          "text": [
            "105\n"
          ]
        }
      ]
    },
    {
      "cell_type": "markdown",
      "id": "4da0599c",
      "metadata": {
        "id": "4da0599c"
      },
      "source": [
        "<div dir=\"rtl\">\n",
        "\n",
        "### שאלה 3:\n",
        "\n",
        "הפונקציה `answer_Q3` טוענת את גרף החברויות מהקובץ `friendships.gml`, ומחשבת את מדד ה־**closeness centrality** של כל צומת – כלומר עד כמה הצומת קרוב לשאר הצמתים מבחינת מספר צעדים (hops).  \n",
        "הצומת שנבחר הוא זה שה־closeness שלו הכי גבוה, כלומר הוא יוכל להעביר את ההודעה לכל שאר הצמתים במספר צעדים מינימלי.  \n",
        "בחרנו במדד closeness משום שהמטרה היא שההודעה תגיע לכולם הכי מהר, בלי מגבלה על מספר הקפיצות.\n",
        "\n",
        "</div>\n"
      ]
    },
    {
      "cell_type": "code",
      "execution_count": null,
      "id": "7055b221",
      "metadata": {
        "id": "7055b221"
      },
      "outputs": [],
      "source": [
        "def answer_Q3():\n",
        "    # Calculate closeness centrality for all nodes\n",
        "    closeness_centralities = nx.closeness_centrality(G1)\n",
        "\n",
        "    # Find the node with the highest closeness centrality\n",
        "    best_node = max(closeness_centralities, key=closeness_centralities.get)\n",
        "\n",
        "    return best_node"
      ]
    },
    {
      "cell_type": "code",
      "source": [
        "ans_Q3 = answer_Q3()\n",
        "print(ans_Q3)"
      ],
      "metadata": {
        "colab": {
          "base_uri": "https://localhost:8080/"
        },
        "id": "wwGHFyX7rDtQ",
        "outputId": "c527ff08-9c66-4a0b-a5cf-bf015e4940c6"
      },
      "id": "wwGHFyX7rDtQ",
      "execution_count": null,
      "outputs": [
        {
          "output_type": "stream",
          "name": "stdout",
          "text": [
            "23\n"
          ]
        }
      ]
    },
    {
      "cell_type": "markdown",
      "id": "6c9dcf3c",
      "metadata": {
        "id": "6c9dcf3c"
      },
      "source": [
        "<div dir=\"rtl\">\n",
        "\n",
        "### שאלה 4:\n",
        "\n",
        "הפונקציה `answer_Q4` טוענת את גרף החברויות ומחשבת את מדד ה־**betweenness centrality** של כל צומת – כלומר כמה פעמים צומת מופיע במסלולים הקצרים ביותר בין צמתים אחרים.  \n",
        "הצומת שנבחר הוא זה שה־betweenness שלו הכי גבוה, ולכן הוא משמש כ\"גשר\" בין חלקים שונים ברשת.  \n",
        "בחירה בצומת הזה תגרום להפרעה הגדולה ביותר להפצת ההודעה, ולכן הוא המועמד המתאים ביותר להסרה מצד ההאקר.\n",
        "\n",
        "</div>\n"
      ]
    },
    {
      "cell_type": "code",
      "execution_count": null,
      "id": "897bb0be",
      "metadata": {
        "id": "897bb0be"
      },
      "outputs": [],
      "source": [
        "def answer_Q4():\n",
        "    # Calculate betweenness centrality for all nodes\n",
        "    betweenness_centralities = nx.betweenness_centrality(G1)\n",
        "\n",
        "    # Find the node with the highest betweenness centrality\n",
        "    most_critical_node = max(betweenness_centralities, key=betweenness_centralities.get)\n",
        "\n",
        "    return most_critical_node"
      ]
    },
    {
      "cell_type": "code",
      "source": [
        "ans_Q4 = answer_Q4()\n",
        "print(ans_Q4)"
      ],
      "metadata": {
        "colab": {
          "base_uri": "https://localhost:8080/"
        },
        "id": "aGUnwo36rGnu",
        "outputId": "6ceabb27-c50d-40cc-c346-988f5299c953"
      },
      "id": "aGUnwo36rGnu",
      "execution_count": null,
      "outputs": [
        {
          "output_type": "stream",
          "name": "stdout",
          "text": [
            "333\n"
          ]
        }
      ]
    }
  ],
  "metadata": {
    "colab": {
      "provenance": [],
      "include_colab_link": true
    },
    "language_info": {
      "name": "python"
    },
    "kernelspec": {
      "name": "python3",
      "display_name": "Python 3"
    }
  },
  "nbformat": 4,
  "nbformat_minor": 5
}